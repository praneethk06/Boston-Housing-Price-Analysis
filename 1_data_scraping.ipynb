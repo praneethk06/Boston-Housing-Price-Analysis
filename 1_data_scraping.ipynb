{
 "cells": [
  {
   "cell_type": "code",
   "execution_count": 5,
   "id": "7d9b142b-b368-4a28-ae85-8afe9d492bea",
   "metadata": {},
   "outputs": [
    {
     "name": "stdout",
     "output_type": "stream",
     "text": [
      "Sample Extracted Data: ['0.00632', '18.00', '2.310', '0', '0.5380', '6.5750', '65.20', '4.0900', '1', '296.0', '15.30', '396.90', '4.98', '24.00']\n",
      "\n",
      "Raw data saved to ./data/boston_raw.txt\n"
     ]
    }
   ],
   "source": [
    "import os\n",
    "import urllib3\n",
    "import re\n",
    "\n",
    "# Ensure the directory exists in the current path\n",
    "data_dir = \"./data\"\n",
    "os.makedirs(data_dir, exist_ok=True)\n",
    "\n",
    "# URL for dataset\n",
    "address = 'http://lib.stat.cmu.edu/datasets/boston'\n",
    "http = urllib3.PoolManager()\n",
    "response = http.request('GET', address)\n",
    "\n",
    "# Extract content\n",
    "webContent = str(response.data)\n",
    "tableContentStart = webContent.find('0.00632')\n",
    "tableContent = webContent[tableContentStart:]\n",
    "tableData = re.findall(r'\\d+\\.\\d+|\\d+', tableContent)\n",
    "\n",
    "# Display first few extracted values\n",
    "print(\"Sample Extracted Data:\", tableData[:14])\n",
    "\n",
    "# Save raw data to a text file inside \"./data/\" instead of \"../data/\"\n",
    "file_path = os.path.join(data_dir, \"boston_raw.txt\")\n",
    "with open(file_path, \"w\") as f:\n",
    "    for value in tableData:\n",
    "        f.write(value + \"\\n\")\n",
    "\n",
    "print(f\"\\nRaw data saved to {file_path}\")"
   ]
  },
  {
   "cell_type": "code",
   "execution_count": 7,
   "id": "a192c199-7290-467f-bec3-cbf5e2510137",
   "metadata": {},
   "outputs": [
    {
     "name": "stdout",
     "output_type": "stream",
     "text": [
      "['boston_raw.txt']\n"
     ]
    }
   ],
   "source": [
    "import os\n",
    "print(os.listdir(\"./data\"))"
   ]
  },
  {
   "cell_type": "code",
   "execution_count": null,
   "id": "7d1770a2-04d7-425b-a7e8-5feadbdbd353",
   "metadata": {},
   "outputs": [],
   "source": []
  }
 ],
 "metadata": {
  "kernelspec": {
   "display_name": "Python [conda env:base] *",
   "language": "python",
   "name": "conda-base-py"
  },
  "language_info": {
   "codemirror_mode": {
    "name": "ipython",
    "version": 3
   },
   "file_extension": ".py",
   "mimetype": "text/x-python",
   "name": "python",
   "nbconvert_exporter": "python",
   "pygments_lexer": "ipython3",
   "version": "3.12.7"
  }
 },
 "nbformat": 4,
 "nbformat_minor": 5
}
