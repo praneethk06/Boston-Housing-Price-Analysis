{
 "cells": [
  {
   "cell_type": "code",
   "execution_count": 3,
   "id": "d194e6b8-4ad9-4825-bd1d-d42af33c4780",
   "metadata": {},
   "outputs": [
    {
     "name": "stdout",
     "output_type": "stream",
     "text": [
      "['boston_raw.txt', 'boston_cleaned.csv']\n"
     ]
    }
   ],
   "source": [
    "import os\n",
    "print(os.listdir(\"./data\"))"
   ]
  },
  {
   "cell_type": "code",
   "execution_count": 7,
   "id": "d404ce2e-0c6f-478e-8f56-fd7767a2fd84",
   "metadata": {},
   "outputs": [
    {
     "name": "stdout",
     "output_type": "stream",
     "text": [
      "Model Coefficients: [-1.24918124e-01  3.32128299e-02  1.33812411e-03  2.97105114e+00\n",
      " -1.52709220e+01  3.94205181e+00 -4.19683876e-03 -1.35975824e+00\n",
      "  3.06334641e-01 -1.38625832e-02 -9.55873269e-01 -5.43480934e-01]\n",
      "Intercept: 38.75264682038655\n",
      "\n",
      "Model Evaluation Metrics:\n",
      "Mean Squared Error (MSE): 25.763\n",
      "R² Score: 0.6581\n",
      "Adjusted R² Score: 0.6115\n",
      "\n",
      "✅ Regression results saved to ./reports/regression_results.csv\n"
     ]
    }
   ],
   "source": [
    "import os\n",
    "import pandas as pd\n",
    "import numpy as np\n",
    "from sklearn.linear_model import LinearRegression\n",
    "from sklearn.metrics import mean_squared_error, r2_score\n",
    "\n",
    "# Ensure the correct file path\n",
    "data_path = \"./data/boston_cleaned.csv\"\n",
    "reports_dir = \"./reports\"  # Define the directory for saving results\n",
    "reports_path = os.path.join(reports_dir, \"regression_results.csv\")\n",
    "\n",
    "# Check if the cleaned dataset exists before proceeding\n",
    "if not os.path.exists(data_path):\n",
    "    raise FileNotFoundError(f\"Error: The file {data_path} does not exist. Run Notebook 2 first.\")\n",
    "\n",
    "# Load cleaned dataset\n",
    "df = pd.read_csv(data_path)\n",
    "\n",
    "# Splitting into training & test sets\n",
    "np.random.seed(10)\n",
    "numberRows = len(df)\n",
    "randomlyShuffledRows = np.random.permutation(numberRows)\n",
    "\n",
    "trainingRows = randomlyShuffledRows[0:405]  # 80% training data\n",
    "testRows = randomlyShuffledRows[405:]  # 20% test data\n",
    "\n",
    "xTrainingData = df.iloc[trainingRows, 0:-1]  # Features\n",
    "yTrainingData = df.iloc[trainingRows, -1]    # Target (MEDV)\n",
    "\n",
    "xTestData = df.iloc[testRows, 0:-1]\n",
    "yTestData = df.iloc[testRows, -1]\n",
    "\n",
    "# Train Linear Regression Model\n",
    "reg = LinearRegression()\n",
    "reg.fit(xTrainingData, yTrainingData)\n",
    "\n",
    "# Model Coefficients\n",
    "print(\"Model Coefficients:\", reg.coef_)\n",
    "print(\"Intercept:\", reg.intercept_)\n",
    "\n",
    "# Predictions\n",
    "yPredictions = reg.predict(xTestData)\n",
    "\n",
    "# Model Evaluation\n",
    "mse = mean_squared_error(yTestData, yPredictions)\n",
    "r2 = r2_score(yTestData, yPredictions)\n",
    "\n",
    "# Adjusted R² Calculation\n",
    "n = len(xTestData)  # Number of observations\n",
    "p = len(xTestData.columns)  # Number of predictors\n",
    "adj_r2 = 1 - (1 - r2) * (n - 1) / (n - p - 1)\n",
    "\n",
    "print(\"\\nModel Evaluation Metrics:\")\n",
    "print(f\"Mean Squared Error (MSE): {mse:.3f}\")\n",
    "print(f\"R² Score: {r2:.4f}\")\n",
    "print(f\"Adjusted R² Score: {adj_r2:.4f}\")\n",
    "\n",
    "# Ensure the \"reports/\" directory exists\n",
    "os.makedirs(reports_dir, exist_ok=True)\n",
    "\n",
    "# Save results to a file\n",
    "results = {\n",
    "    \"MSE\": mse,\n",
    "    \"R2\": r2,\n",
    "    \"Adjusted_R2\": adj_r2,\n",
    "    \"Coefficients\": reg.coef_.tolist(),\n",
    "    \"Intercept\": reg.intercept_\n",
    "}\n",
    "\n",
    "results_df = pd.DataFrame([results])\n",
    "results_df.to_csv(reports_path, index=False)\n",
    "\n",
    "print(f\"\\n✅ Regression results saved to {reports_path}\")"
   ]
  },
  {
   "cell_type": "code",
   "execution_count": null,
   "id": "9e1b04cc-a9be-4531-bdac-e213b6c11e6c",
   "metadata": {},
   "outputs": [],
   "source": []
  }
 ],
 "metadata": {
  "kernelspec": {
   "display_name": "Python [conda env:base] *",
   "language": "python",
   "name": "conda-base-py"
  },
  "language_info": {
   "codemirror_mode": {
    "name": "ipython",
    "version": 3
   },
   "file_extension": ".py",
   "mimetype": "text/x-python",
   "name": "python",
   "nbconvert_exporter": "python",
   "pygments_lexer": "ipython3",
   "version": "3.12.7"
  }
 },
 "nbformat": 4,
 "nbformat_minor": 5
}
